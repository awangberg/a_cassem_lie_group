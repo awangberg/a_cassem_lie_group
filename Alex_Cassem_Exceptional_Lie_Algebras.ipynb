{
  "nbformat": 4,
  "nbformat_minor": 0,
  "metadata": {
    "colab": {
      "name": "Alex Cassem Exceptional Lie Algebras.ipynb",
      "provenance": [],
      "include_colab_link": true
    },
    "kernelspec": {
      "name": "python3",
      "display_name": "Python 3"
    },
    "language_info": {
      "name": "python"
    }
  },
  "cells": [
    {
      "cell_type": "markdown",
      "metadata": {
        "id": "view-in-github",
        "colab_type": "text"
      },
      "source": [
        "<a href=\"https://colab.research.google.com/github/awangberg/a_cassem_lie_group/blob/main/Alex_Cassem_Exceptional_Lie_Algebras.ipynb\" target=\"_parent\"><img src=\"https://colab.research.google.com/assets/colab-badge.svg\" alt=\"Open In Colab\"/></a>"
      ]
    },
    {
      "cell_type": "markdown",
      "metadata": {
        "id": "4kpCGAdjeGJL"
      },
      "source": [
        "Generative writing is a process for documenting thoughts, questions, patterns, hunches, findings, and interesting things as you work on your project.  It should be done twice weekly - ideally spending 20 minutes as part of each work session.  The result is not formal mathematics, but rather notes, ideas, and placeholders which capture your thoughts on the project and help you jump back into the project in a day or two.\n",
        "\n",
        "This writing will be an important piece of your final write-up for your capstone project.  As you do that final paper, you'll be able to jump back to this writing to grab ideas, examples, and concepts to include in your paper.\n",
        "\n",
        "This writing is *not* a homework assignments, graded on correctness. Instead, it is like a journal documenting your journey and thoughts.  I've started jotting tasks and questions for you to answer as we go through this project.  But, you will likely generate more questions or ideas as you work throught the project.  Write these down.  You might revisit them. Or revise them. Or scrap them.  Or rely upon them for major findings for your paper.  We don't know how you'll use the idea in the future - but writing it down ensures it is there for you to use later.\n",
        "\n",
        "\n"
      ]
    },
    {
      "cell_type": "code",
      "metadata": {
        "id": "9b6VXj2PQ5V6"
      },
      "source": [
        ""
      ],
      "execution_count": null,
      "outputs": []
    },
    {
      "cell_type": "markdown",
      "metadata": {
        "id": "UdOmxw9fQ7p_"
      },
      "source": [
        "#  Exceptional Lie Groups and Lie Algebras\n"
      ]
    },
    {
      "cell_type": "markdown",
      "metadata": {
        "id": "FERxW9iBRlnv"
      },
      "source": [
        "# Task 1:  Transformations in the plane\n",
        "\n",
        "* Find three matrix transformations $M$ which moves the vector\n",
        "\n",
        "$$ \\vec{v} = \\left( \\begin{array}{c} -4 \\\\ 3 \\\\ \\end{array} \\right) $$\n",
        "\n",
        "to the vector $\\vec{w} = \\left( \\begin{array}{c} 0 \\\\ 5 \\\\ \\end{array} \\right) $\n",
        "via  $\\vec{v} \\to M\\vec{v}$.  (This is also written $M\\, \\vec{v} = \\vec{w}$ ).\n",
        "\n",
        "* Investigate the following questions:\n",
        "\n",
        " 1) The magnitude of $\\vec{v}$ and $M \\vec{v}$ are 5.  That is, $\\left| \\vec{v} \\right| = 5$ and $\\left| M \\vec{v} \\right| = 5$.  Make a guess as to the magnitude of $M^2 \\vec{v}$ for each of your matrices.  Were you right?\n",
        " \n",
        " 2) Choose a new vector $\\vec{p}$ such that $\\left| \\vec{p} \\right| = 2$.  Is $| M \\vec{p} | = 2$ for your matrices?\n",
        "\n",
        " 3) Make a conjecture about $M$ and the vector magnitudes.  [ No need to prove anything - just state patterns you think might hold. ]\n",
        "\n"
      ]
    },
    {
      "cell_type": "markdown",
      "metadata": {
        "id": "e92Rr3Vqb2kT"
      },
      "source": [
        "# Task 1.5:  Transformations on the right\n",
        "\n",
        " Would any of your matrices work if we also did:\n",
        "\n",
        "$$ \\vec{v} \\to \\vec{v}^T M^?$$\n",
        "\n",
        "where $M^?$ is a matrix based on $M$, but stands for the matrix $M$, the matrix $M^T$, or  $M^{-1}$, the inverse of matrix $M$.\n",
        "\n",
        "\n",
        " * Investigate the following questions:\n",
        "\n",
        " 1) Why did we have to use the transpose of $\\vec{v}$ for the right-sided multiplication?  Why couldn't we just use $\\vec{v} \\to \\vec{v} M$?\n",
        "\n",
        " 2) Why do some of the $M$'s work for both the left and the right sided multiplication, but others do not?\n",
        "\n",
        " 3) What happens if we combine the left and the right matrix multiplication:\n",
        "\n",
        " $$ \\vec{v} \\to M \\vec{v} M^?$$\n",
        "\n",
        " for your $M$'s that work for (2).\n",
        "   * What do you think should happen?  Expain with words and sentences.\n",
        "   * Find a way to compute this with your matrices and vector.\n",
        "   * You had to do something weird with the vector.  Why?  Can you find a way around this?  \n",
        "\n",
        "\n",
        "\n"
      ]
    },
    {
      "cell_type": "markdown",
      "metadata": {
        "id": "Yqeh7ajEUCGD"
      },
      "source": [
        "# Task 2:  Transformations II\n",
        "\n",
        "\n",
        "\n",
        "\n",
        "Find a matrix transformation $M$ which moves the vector\n",
        "\n",
        "$$ \\vec{v} = \\left( \\begin{array}{c} 2 \\\\ 4 \\\\ 4 \\\\ \\end{array} \\right) $$\n",
        "\n",
        "to the vector\n",
        "\n",
        "$$ M\\vec{v} = \\left( \\begin{array}{c} 0 \\\\ 0 \\\\ 6 \\\\ \\end{array} \\right) $$"
      ]
    },
    {
      "cell_type": "markdown",
      "metadata": {
        "id": "AM-2wUe9WNnx"
      },
      "source": [
        "# Task 3:  Representations of space\n",
        "\n",
        "  * Make a list of all the different ways you could **represent** a point $\\vec{p}_2$ in the 2-dimensional plane.\n",
        "\n",
        "  * Make a list of all the different ways you could **represent** a point $\\vec{p}_3$ in 3-dimensional space.\n",
        "\n",
        "  * Make a list of all the different ways you could **represent** a point \n",
        "  $$\\vec{p}_4 = \\left( \\begin{array}{c} t \\\\ x \\\\ y \\\\ z \\\\ \\end{array} \\right) $$\n",
        "  in space-time.\n",
        "\n",
        "  "
      ]
    }
  ]
}